{
  "cells": [
    {
      "cell_type": "markdown",
      "metadata": {
        "id": "dsRalEHCij9h"
      },
      "source": [
        "# Arm Navigation with Obstacle Avoidance"
      ]
    },
    {
      "cell_type": "markdown",
      "source": [
        "[![Open In Colab](https://colab.research.google.com/assets/colab-badge.svg)](https://colab.research.google.com/github/MMiknich/MoneyPulator/blob/main/Manipulator.ipynb)"
      ],
      "metadata": {
        "id": "sIt8ti1XcIul"
      }
    },
    {
      "cell_type": "markdown",
      "source": [
        "In this notebook we implement basic A* algoritm with heuristic search for planar n-joint manipulator arm.\n"
      ],
      "metadata": {
        "id": "_swi5u9RY7Ue"
      }
    },
    {
      "cell_type": "code",
      "execution_count": 1,
      "metadata": {
        "scrolled": false,
        "id": "NN-kviGeij9r"
      },
      "outputs": [],
      "source": [
        "import copy\n",
        "import math\n",
        "import matplotlib.pyplot as plt\n",
        "import numpy as np\n",
        "from heapq import heappop, heappush, heapify\n",
        "from random import randint\n",
        "import time\n",
        "from collections.abc import Iterable\n",
        "from IPython.display import HTML\n",
        "from PIL import Image, ImageDraw, ImageOps\n",
        "from IPython.display import Image as Img\n",
        "from IPython.display import display\n",
        "from sys import float_info\n",
        "from matplotlib.animation import FuncAnimation \n",
        "EPS = float_info.epsilon\n",
        "%matplotlib inline"
      ]
    },
    {
      "cell_type": "markdown",
      "metadata": {
        "id": "yoPxrYVEij9s"
      },
      "source": [
        "### Environment representation \n",
        "\n",
        "Env class represents the environment for our moving agent\n",
        "\n",
        "- `obstacles` -- list of stationary obstacles\n",
        "- `root` -- connection point of manipulator\n",
        "- `link_len` -- length of every segment of manipulator\n",
        "- `link_num` -- number of manipulator segments\n",
        "- `state` -- initial state (angles) of manipulator\n",
        "- `delta` -- angle step for each manipulator oint\n",
        "- `neighbors_moves` -- matrix of all possible angle increments\n",
        "- `bounds` -- boundaries of environment\n",
        "\n"
      ]
    },
    {
      "cell_type": "code",
      "source": [
        "class Obstacle:\n",
        "\n",
        "    '''\n",
        "    Obstacle class represents simple circle obstacle\n",
        "    '''\n",
        "    def __init__(self, coords, r):\n",
        "        self._center = np.array(coords)\n",
        "        self._radius = r\n",
        "    \n",
        "    def center(self, timestamp=None):\n",
        "        if timestamp is not None:\n",
        "            return self._center[timestamp]\n",
        "        else:\n",
        "            return self._center\n",
        "\n",
        "    def radius(self, timestamp=None):\n",
        "        if timestamp is not None:\n",
        "            return self._radius[timestamp]\n",
        "        else:\n",
        "            return self._radius"
      ],
      "metadata": {
        "id": "SYsfWwGzZvXR"
      },
      "execution_count": 2,
      "outputs": []
    },
    {
      "cell_type": "code",
      "execution_count": 3,
      "metadata": {
        "scrolled": false,
        "id": "0alHSj8cij9t"
      },
      "outputs": [],
      "source": [
        "class Env:\n",
        "    '''\n",
        "    Env represents 2d manipulator enviroment with circle obsticles and gives interface to use it \n",
        "    '''\n",
        "    \n",
        "    def __init__(self, obstacles = None, manipulator_root = None, manipulator_links = None,\n",
        "     manipulator_initial_state=None, delta_alpha = 0.1, bounds = [[0, 0], [10, 10]]):\n",
        "        '''\n",
        "        Enviroment initialization\n",
        "        '''\n",
        "        self.obstacles = obstacles\n",
        "        self.root = np.array(manipulator_root)\n",
        "        self.link_len = np.array(manipulator_links)\n",
        "        self.state = np.array(manipulator_initial_state)\n",
        "        self.link_num = len(manipulator_links)\n",
        "        if manipulator_initial_state and manipulator_links:\n",
        "            # Links number == number of initial angles\n",
        "            assert(len(manipulator_initial_state) == self.link_num)\n",
        "\n",
        "        if isinstance(delta_alpha, Iterable):\n",
        "            assert(len(delta_alpha) == self.link_num)\n",
        "            self.delta = delta_alpha\n",
        "        else:\n",
        "            self.delta = np.array([delta_alpha]*self.link_num)\n",
        "\n",
        "        self.neighbors_moves = np.stack([self.delta]*3).T * np.array([[-1, 0, 1]]*self.link_num)\n",
        "\n",
        "        self.bounds = np.array(bounds)\n",
        "\n",
        "    def __get_links__(self, angles):\n",
        "\n",
        "        # Links number == number of angles\n",
        "        assert(len(angles) == len(self.link_len))\n",
        "\n",
        "        points = [self.root]\n",
        "        absolute_angle = 0\n",
        "\n",
        "        for link_len, relative_angle in zip(self.link_len, angles):\n",
        "            absolute_angle += relative_angle\n",
        "            new_point = points[-1] + np.array([link_len*np.cos(absolute_angle), link_len*np.sin(absolute_angle)])\n",
        "            points.append(new_point)\n",
        "\n",
        "        return [(points[i-1], points[i]) for i in range(1, len(points))]\n",
        "        \n",
        "    def __detect_collision__(self, link, obstacle, timestamp = None):\n",
        "        '''\n",
        "        Determines whether a line segment (arm link) is in contact\n",
        "        with a circle (obstacle).\n",
        "        '''\n",
        "        a_vec = np.array([link[0][0], link[0][1]])\n",
        "        b_vec = np.array([link[1][0], link[1][1]])\n",
        "\n",
        "        link_vec = b_vec - a_vec\n",
        "\n",
        "        link_norm = np.linalg.norm(link_vec)\n",
        "\n",
        "        circle_vec = obstacle.center(timestamp) - a_vec\n",
        "        proj = circle_vec @ (link_vec / link_norm)\n",
        "\n",
        "        if proj <= 0:\n",
        "            closest_point = a_vec\n",
        "        elif proj >= link_norm:\n",
        "            closest_point = b_vec\n",
        "        else:\n",
        "            closest_point = a_vec + link_vec * proj / link_norm\n",
        "\n",
        "\n",
        "        if np.linalg.norm(closest_point - obstacle.center(timestamp)) > obstacle.radius(timestamp):\n",
        "            return False\n",
        "        return True\n",
        "\n",
        "    def __not_in_bounds__(self, link):\n",
        "        if np.sum(link < self.bounds[0]) > 0:\n",
        "            return True\n",
        "        if np.sum(link > self.bounds[1]) > 0:\n",
        "            return True\n",
        "        return False\n",
        "        \n",
        "    def traversable(self, angles, timestamp=None):\n",
        "\n",
        "        for link in self.__get_links__(angles):\n",
        "            for obstacle in self.obstacles:\n",
        "                if self.__detect_collision__(link, obstacle, timestamp) or self.__not_in_bounds__(link) :\n",
        "                    return False \n",
        "        return True\n",
        "\n",
        "\n",
        "    def get_neighbors(self, angles, timestamp = None):\n",
        "        '''\n",
        "        Returns a list of neighbouring states to states defined by angles\n",
        "        '''\n",
        "\n",
        "        neighbors = []\n",
        "        delta = np.array(np.meshgrid(*self.neighbors_moves)).T.reshape(-1, self.link_num)\n",
        "        neighbors_angles = delta + np.array([angles]*delta.shape[0])\n",
        "\n",
        "        for n_angles in neighbors_angles:\n",
        "            if self.traversable(n_angles):\n",
        "                neighbors.append(n_angles)  \n",
        "        return neighbors\n",
        "\n",
        "    def plot_arm(self, path, target, filename=\"output\", fps= 5):  # pragma: no cover\n",
        "        fig = plt.figure(figsize = (self.bounds[1][0] - self.bounds[0][0], self.bounds[1][1] - self.bounds[0][1])) \n",
        "\n",
        "        # marking the x-axis and y-axis\n",
        "        axis = plt.axes(xlim =[self.bounds[0][0],self.bounds[1][0]], \n",
        "                        ylim =[self.bounds[0][1],self.bounds[1][1]]) \n",
        "\n",
        "        # initializing a line variable\n",
        "        points = [axis.scatter(target[0], target[1],  color='red')]\n",
        "        lines = [axis.plot([], [],  color='green', marker='o',\n",
        "                linewidth=10//(i+1), markersize=9//(i+1))[0] for i in range(self.link_num)]\n",
        "        circles = [plt.Circle(obstacle.center(), radius=obstacle.radius(), fc='k') for obstacle in self.obstacles]\n",
        "\n",
        "        def init(): \n",
        "            for j, link in enumerate(self.__get_links__(self.state)):\n",
        "                lines[j].set_data([link[0][0], link[1][0]], [link[0][1], link[1][1]])\n",
        "            for patch in circles:\n",
        "                axis.add_patch(patch)\n",
        "            return lines + circles + points\n",
        "\n",
        "        def animate(i):\n",
        "            curr_node = path[i]\n",
        "            for j,link in enumerate(self.__get_links__(curr_node.angles)):\n",
        "                lines[j].set_data([link[0][0], link[1][0]], [link[0][1], link[1][1]])\n",
        "\n",
        "            return lines + circles + points\n",
        "\n",
        "        anim = FuncAnimation(fig, animate, init_func = init,\n",
        "                     frames = len(path), interval = 1, blit = True)\n",
        "        anim.save(filename + '.gif', \n",
        "          writer = 'pillow', fps = fps)"
      ]
    },
    {
      "cell_type": "markdown",
      "metadata": {
        "id": "G0SJUeTTij9u"
      },
      "source": [
        "### Cost functions\n",
        "\n",
        "Computes the cost of a transition from `angles1` state to `angles2` state."
      ]
    },
    {
      "cell_type": "markdown",
      "source": [
        "The default cost function that represents the elapsed time (number of moves) "
      ],
      "metadata": {
        "id": "u_FlksqocdEw"
      }
    },
    {
      "cell_type": "code",
      "execution_count": 4,
      "metadata": {
        "scrolled": false,
        "id": "r_YcaUz0ij9v"
      },
      "outputs": [],
      "source": [
        "def compute_cost(angles1, angles2, delta):\n",
        "    '''\n",
        "    Computes cost of simple moves between cells\n",
        "    '''\n",
        "    d = max(abs(angles1 - angles2))\n",
        "    if abs(d - delta[0]) < EPS:\n",
        "        return 1\n",
        "    elif d < EPS:\n",
        "        return 1\n",
        "    else:\n",
        "        print(angles1 - angles2)\n",
        "        raise Exception('Trying to compute the cost of non-supported move!')\n"
      ]
    },
    {
      "cell_type": "markdown",
      "source": [
        "Cost function that represents energy consumption (each angle change costs)"
      ],
      "metadata": {
        "id": "Uu-1KpAtc8ih"
      }
    },
    {
      "cell_type": "code",
      "source": [
        "def compute_cost_energy(angles1, angles2, delta):\n",
        "    '''\n",
        "    Computes cost of simple moves between cells\n",
        "    '''\n",
        "    d = np.sum(abs(angles1 - angles2)) // delta[0]\n",
        "    return d\n",
        "    "
      ],
      "metadata": {
        "id": "FPTzro9Ujsio"
      },
      "execution_count": 5,
      "outputs": []
    },
    {
      "cell_type": "markdown",
      "metadata": {
        "id": "PDg90st7ij9w"
      },
      "source": [
        "### Search Node\n",
        "\n",
        "Search node is the core concept for any (heuristic) search algorithm. It ties together and encapsulates data both about the state of the problem at hand (in the considered case state = the position of manipulator in the space) and data needed to conduct the search (g-, h, f-values etc.)\n"
      ]
    },
    {
      "cell_type": "code",
      "execution_count": 6,
      "metadata": {
        "scrolled": false,
        "id": "uQ-zLGnKij9x"
      },
      "outputs": [],
      "source": [
        "from re import A\n",
        "class Node:\n",
        "    '''\n",
        "    Node class represents a search node\n",
        "\n",
        "    - angles: set of manipulator angles, that represents it's state\n",
        "    - g: g-value of the node (also equals time moment when the agent reaches the cell)\n",
        "    - h: h-value of the node // always 0 for Dijkstra\n",
        "    - f: f-value of the node // always equal to g-value for Dijkstra\n",
        "    - parent: pointer to the parent-node  \n",
        "    '''\n",
        "    \n",
        "\n",
        "    def __init__(self, angles, g = 0, h = 0, f = None, parent = None, deltas = None, init_angles = None):\n",
        "        self.angles = np.array(angles)\n",
        "        self.g = g\n",
        "        self.h = h\n",
        "        if f is None:\n",
        "            self.f = self.g + h\n",
        "        else:\n",
        "            self.f = f        \n",
        "        self.parent = parent\n",
        "        self.deltas = deltas\n",
        "        self.init_angles = init_angles\n",
        "\n",
        "    def __eq__(self, other):\n",
        "        '''\n",
        "        Estimating where the two search nodes are the same,\n",
        "        which is needed to detect dublicates in the search tree.\n",
        "        '''\n",
        "        \n",
        "        return max(abs(self.angles - other.angles)) < EPS\n",
        "    \n",
        "    def __hash__(self):\n",
        "        '''\n",
        "        To implement CLOSED as set of nodes we need Node to be hashable.\n",
        "        '''\n",
        "        a = ((self.angles - self.init_angles) // self.deltas).astype(int)\n",
        "        \n",
        "        return hash(tuple(a.tolist()))\n",
        "\n",
        "    \n",
        "\n",
        "    def __lt__(self, other): \n",
        "        '''\n",
        "        Comparison between self and other. Returns is self < other (self has higher priority).\n",
        "        '''\n",
        "        \n",
        "        return (self.f < other.f) or ((abs(self.f - other.f) < EPS) and (self.g > other.g)) "
      ]
    },
    {
      "cell_type": "markdown",
      "metadata": {
        "id": "B5c31jN7ij90"
      },
      "source": [
        "### Implementing the search tree (i.e. OPEN and CLOSED)\n",
        "\n",
        "Efficient implementation of the search tree (OPEN and CLOSED) is crucial for any search algorithm."
      ]
    },
    {
      "cell_type": "code",
      "execution_count": 7,
      "metadata": {
        "scrolled": false,
        "id": "8Knu2EOdij90"
      },
      "outputs": [],
      "source": [
        "import heapq as hq\n",
        "\n",
        "class SearchTree: #Non list-based implementation of the search tree\n",
        "    \n",
        "    def __init__(self):\n",
        "        self._open = []          # list for the OPEN nodes\n",
        "        self._closed = set()       # list for the expanded nodes = CLOSED\n",
        "        self._enc_open_dublicates = 0\n",
        "        \n",
        "    def __len__(self):\n",
        "        return len(self._open) + len(self._closed)\n",
        "                    \n",
        "    '''\n",
        "    open_is_empty should inform whether the OPEN is exhausted or not.\n",
        "    In the former case the search main loop should be interrupted.\n",
        "    '''\n",
        "    def open_is_empty(self):\n",
        "        return len(self._open) == 0\n",
        "    \n",
        "    '''\n",
        "    Adding a (previously not expanded) node to the search-tree (i.e. to OPEN).\n",
        "    It's either a totally new node (the one we never encountered before)\n",
        "    or it can be a dublicate of the node that currently resides in OPEN.\n",
        "    It's up to us how to handle dublicates in OPEN. We can either \n",
        "    detect dublicates upon adding (i.e. inside this method) or detect them\n",
        "    lazily, when we are extracting a node for further expansion.\n",
        "    Not detecting dublicates at all may work in certain setups but let's not\n",
        "    consider this option.\n",
        "    '''    \n",
        "    def add_to_open(self, item):\n",
        "        hq.heappush(self._open, item)\n",
        "        return    \n",
        "    \n",
        "    \n",
        "    '''\n",
        "    Extracting the best node (i.e. the one with the minimal key \n",
        "    = min f-value = min g-value (for Dijkstra)) from OPEN.\n",
        "    This node will be expanded further on in the main loop of the search.\n",
        "    ''' \n",
        "    def get_best_node_from_open(self):\n",
        "        \n",
        "        best_node = hq.heappop(self._open)\n",
        "        while self.was_expanded(best_node):\n",
        "            if not self._open:\n",
        "                return None\n",
        "            best_node = hq.heappop(self._open)\n",
        "            self._enc_open_dublicates +=1\n",
        "        return best_node\n",
        "\n",
        "    def add_to_closed(self, item):\n",
        "        self._closed.add(item)\n",
        "\n",
        "    def was_expanded(self, item):\n",
        "        return item in self._closed\n",
        "\n",
        "    @property\n",
        "    def OPEN(self):\n",
        "        return self._open\n",
        "    \n",
        "    @property\n",
        "    def CLOSED(self):\n",
        "        return self._closed\n",
        "\n",
        "    @property\n",
        "    def number_of_open_dublicates(self):\n",
        "        return self._enc_open_dublicates  "
      ]
    },
    {
      "cell_type": "markdown",
      "metadata": {
        "id": "ZyRN1rC7ij93"
      },
      "source": [
        "## A* Algorithm\n"
      ]
    },
    {
      "cell_type": "markdown",
      "metadata": {
        "id": "zEixmf0Gij93"
      },
      "source": [
        "The first (main) ingridient of the `A*` algorithm is the heuristic function.\n",
        "\n",
        "Ideally, it should be admissible (never overestimate the true cost to the goal) and consistent (~satisfy triangle inequality)."
      ]
    },
    {
      "cell_type": "code",
      "execution_count": 8,
      "metadata": {
        "scrolled": false,
        "id": "-zKL3VuEij94"
      },
      "outputs": [],
      "source": [
        "# Functions for heuristics\n",
        "def manhattan_distance(i1, j1, i2, j2):\n",
        "    return abs(j2 - j1) + abs(i2 - i1)\n",
        "\n",
        "def euclidean_distance(i1, j1, i2, j2):\n",
        "    return ((j2 - j1)**2 + (i2 - i1)**2)**0.5"
      ]
    },
    {
      "cell_type": "code",
      "execution_count": 9,
      "metadata": {
        "scrolled": false,
        "id": "8ji-gcBtij94"
      },
      "outputs": [],
      "source": [
        "def astar(grid_map, start_angles, goal_i, goal_j, heuristic_func = None, search_tree = None, cost_func = None):\n",
        "\n",
        "    ast = search_tree()\n",
        "    steps = 1\n",
        "    nodes_created = 0\n",
        "    \n",
        "    h_fun = lambda i, j:  heuristic_func(i, j, goal_i, goal_j) #for shortening the code\n",
        "    \n",
        "    # goal_node = Node(goal_i, goal_j, g = np.inf)    \n",
        "    \n",
        "    effector = grid_map.__get_links__(start_angles)[-1][1]\n",
        "\n",
        "    start_node = Node(start_angles, g=0, h=h_fun(effector[0], effector[1]), deltas = grid_map.delta, init_angles = start_angles)\n",
        "    \n",
        "    nodes_created = 1\n",
        "    \n",
        "    ast.add_to_open(start_node)\n",
        "    \n",
        "    while ast._open:\n",
        "        \n",
        "        working_node = ast.get_best_node_from_open()\n",
        "        effector = grid_map.__get_links__(working_node.angles)[-1][1]\n",
        "\n",
        "        # print('Neig: ', (working_node.angles - start_angles) // grid_map.delta[0])\n",
        "\n",
        "        if euclidean_distance(effector[0], effector[1], goal_i, goal_j) < 1e-1:\n",
        "            return (True, working_node, steps, nodes_created, set(ast._open), set(ast._closed))\n",
        "        \n",
        "        else:\n",
        "            neighbors = grid_map.get_neighbors(working_node.angles)            \n",
        "\n",
        "            for neib_angles in neighbors:\n",
        "                \n",
        "                new_g = working_node.g + cost_func(working_node.angles, neib_angles, grid_map.delta)\n",
        "                neib_effector = grid_map.__get_links__(neib_angles)[-1][1]\n",
        "\n",
        "                h = h_fun(neib_effector[0], neib_effector[1])\n",
        "                \n",
        "                new_node = Node(neib_angles, new_g, h, parent=working_node, deltas = grid_map.delta, init_angles = start_angles)\n",
        "                nodes_created += 1\n",
        "                if not ast.was_expanded(new_node):\n",
        "                    ast.add_to_open(new_node)            \n",
        "            \n",
        "            ast.add_to_closed(working_node)\n",
        "            \n",
        "        steps += 1\n",
        "    \n",
        "    return False, None, steps, nodes_created, None, set(ast._closed)"
      ]
    },
    {
      "cell_type": "markdown",
      "source": [
        "### Validating the results\n"
      ],
      "metadata": {
        "id": "BHEhXrs4dybF"
      }
    },
    {
      "cell_type": "markdown",
      "source": [
        "Restoring the path from the goal state"
      ],
      "metadata": {
        "id": "OQHoRGf7dfGf"
      }
    },
    {
      "cell_type": "code",
      "execution_count": 10,
      "metadata": {
        "scrolled": false,
        "id": "71BSpCVjij91"
      },
      "outputs": [],
      "source": [
        "def make_path(goal):\n",
        "    '''\n",
        "    Creates a path by tracing parent pointers from the goal node to the start node\n",
        "    It also returns path's length.\n",
        "    '''\n",
        "\n",
        "    length = goal.g\n",
        "    current = goal\n",
        "    path = []\n",
        "    while current.parent:\n",
        "        path.append(current)\n",
        "        current = current.parent\n",
        "    path.append(current)\n",
        "    return path[::-1], length"
      ]
    },
    {
      "cell_type": "markdown",
      "metadata": {
        "id": "BjWw0ooKij91"
      },
      "source": [
        "`stationary_test` tests the pathfing algorithm on a single simple instance. Tests assume that the search function fits the following pattern:\n",
        "\n",
        "\n",
        "`search(task_map, start_angles, goal.i, goal.j, *optional arguments*) -> (path_found, last_state, steps, nodes_created, discovered, expanded)`, where\n",
        "\n",
        "- `task_map` -- our environment\n",
        "- `start_angles` -- initial manipulator angles\n",
        "- `goal.i, goal.j` -- (i,j) coordinates of the goal\n",
        "- `*optional arguments*` -- additional parameters of the search function, passed with `*args`. E.g. the heuristic function.\n",
        "- `path_found` -- `True` if path was found, `False` otherwise\n",
        "- `last_state` -- last state of the path. `None` if path was not found\n",
        "- `steps` -- the number of search steps\n",
        "- `nodes_created` -- the number of the nodes, which were created and stored during the search process \n",
        "- `open` -- iterable collection of open nodes\n",
        "- `expanded` --  iterable collection of the expanded nodes\n",
        "- `re-expanded` -- iterable collection of the re-expanded nodes"
      ]
    },
    {
      "cell_type": "code",
      "source": [
        "def stationary_test(search_func, task, obs_flag, *args):\n",
        "    '''\n",
        "    simple_test runs search_func on one task (use a number from 0 to 4 to \n",
        "    choose a certain debug task on simple map or None to choose a random task \n",
        "    from this pool) with *args as optional arguments and displays:\n",
        "     - 'Path found!' and some statistics -- path was found\n",
        "     - 'Path not found!' -- path was not found\n",
        "     \n",
        "    Parameters\n",
        "    ----------\n",
        "    search_func : function\n",
        "        Function, which implements the method to run\n",
        "    task : int\n",
        "        Number of task from pregenerated set. Must be in the range from 0 to 4 (use None ro run random task)\n",
        "    '''\n",
        "    # environment size\n",
        "    height = 15\n",
        "    width = 15\n",
        "    bounds = [[0, 0], [height, width]]\n",
        "\n",
        "    # angle discrete\n",
        "    d_theta = 0.05*np.pi\n",
        "\n",
        "    # manipulator segment lengths and initial angles\n",
        "    manipulator_ls = [[3., 3.], [2., 2., 2.], [1.5, 1.5, 1.5, 1.5], [6./5, 6./5, 6./5, 6./5, 6./5]]\n",
        "    manipulator_thetas = [[5/4*np.pi, 0.], [5/4*np.pi, 0., 0.], [5/4*np.pi, 0., 0., 0.], [5/4*np.pi, 0., 0., 0., 0.]]\n",
        "    \n",
        "    # manipulator connection point and goal point\n",
        "    starts = [(height/2, width/2), (height/2, width/2), (height/2, width/2), (height/2, width/2)]\n",
        "    goals = [(width/2 - 6/2**0.5, height/2 + 6/2**0.5), (width/2 - 6/2**0.5, height/2 + 6/2**0.5), (width/2 - 6/2**0.5, height/2 + 6/2**0.5), (width/2 - 6/2**0.5, height/2 + 6/2**0.5)]\n",
        "    # print(goals)\n",
        "\n",
        "    # list of stationary obstacles\n",
        "    objects = []\n",
        "    if obs_flag:\n",
        "        objects.append([height/2-2.25, width/2+5.25, 1.5])\n",
        "        objects.append([height/2-4.5, width/2+1.5, 1.25])\n",
        "        objects.append([height/2+3, width/2+0, 1.])\n",
        "    \n",
        "    if (task is None) or not (0 <= task < 4):\n",
        "        task = randint(0, 3)\n",
        "\n",
        "    for i, obj in enumerate(objects):\n",
        "        objects[i] = Obstacle(obj[:-1], obj[-1])\n",
        "\n",
        "    task_map = Env(obstacles=objects,\n",
        "                   manipulator_root=starts[task],\n",
        "                   manipulator_links=manipulator_ls[task],\n",
        "                   manipulator_initial_state=manipulator_thetas[task],\n",
        "                   delta_alpha=d_theta,\n",
        "                   bounds=bounds)\n",
        "\n",
        "    start_angles = manipulator_thetas[task]\n",
        "    goal = goals[task]\n",
        "\n",
        "    result = search_func(task_map, start_angles, goal[0], goal[1], *args)\n",
        "    number_of_steps = result[2]\n",
        "    nodes_created = result[3]\n",
        "    if result[0]:\n",
        "        path, length = make_path(result[1])\n",
        "        print(\"Path found! Length: \" + str(length) + \\\n",
        "              \". Nodes created: \" + str(nodes_created) + \\\n",
        "              \". Number of steps: \" + str(number_of_steps))\n",
        "\n",
        "        task_map.plot_arm(path, goal, filename=\"file\")\n",
        "    else:\n",
        "        print(\"Path not found!\")"
      ],
      "metadata": {
        "id": "A28-IQquwOv3"
      },
      "execution_count": 11,
      "outputs": []
    },
    {
      "cell_type": "markdown",
      "metadata": {
        "id": "9uDgxPG6ij98"
      },
      "source": [
        "### Run tests\n",
        "\n",
        "Tests arguments:\n",
        "\n",
        "`test(algorithm, test_num, obstacles, *optional arguments*)`, where\n",
        "\n",
        "- `algorithm` -- path search algorithm\n",
        "- `test_num` -- test number\n",
        "- `obstacles` -- obstacles flag (use obstacles or not)\n",
        "- `*optional arguments*` -- additional parameters of the search function. E.g. the heuristic function."
      ]
    },
    {
      "cell_type": "code",
      "source": [
        "%time stationary_test(astar, 1, True, euclidean_distance, SearchTree, compute_cost)"
      ],
      "metadata": {
        "colab": {
          "base_uri": "https://localhost:8080/",
          "height": 918
        },
        "id": "TcLvW2FIwbH3",
        "outputId": "4e9ad875-ff58-46ad-82c6-0403f66b4f1f"
      },
      "execution_count": 12,
      "outputs": [
        {
          "output_type": "stream",
          "name": "stdout",
          "text": [
            "Path found! Length: 18. Nodes created: 161761. Number of steps: 6357\n",
            "CPU times: user 1min 32s, sys: 1.14 s, total: 1min 34s\n",
            "Wall time: 1min 36s\n"
          ]
        },
        {
          "output_type": "display_data",
          "data": {
            "text/plain": [
              "<Figure size 1080x1080 with 1 Axes>"
            ],
            "image/png": "[encoded data removed]"
          },
          "metadata": {
            "needs_background": "light"
          }
        }
      ]
    },
    {
      "cell_type": "code",
      "execution_count": 12,
      "metadata": {
        "id": "HDlozJwcij99"
      },
      "outputs": [],
      "source": [
        ""
      ]
    }
  ],
  "metadata": {
    "interpreter": {
      "hash": "aee8b7b246df8f9039afb4144a1f6fd8d2ca17a180786b69acc140d282b71a49"
    },
    "kernelspec": {
      "display_name": "Python 3 (ipykernel)",
      "language": "python",
      "name": "python3"
    },
    "language_info": {
      "codemirror_mode": {
        "name": "ipython",
        "version": 3
      },
      "file_extension": ".py",
      "mimetype": "text/x-python",
      "name": "python",
      "nbconvert_exporter": "python",
      "pygments_lexer": "ipython3",
      "version": "3.9.7"
    },
    "colab": {
      "name": "Manipulator.ipynb",
      "provenance": [],
      "collapsed_sections": []
    }
  },
  "nbformat": 4,
  "nbformat_minor": 0
}